{
 "cells": [
  {
   "cell_type": "markdown",
   "id": "1f6893ec",
   "metadata": {},
   "source": [
    "## Data Scraping :"
   ]
  },
  {
   "cell_type": "markdown",
   "id": "596bc9ac",
   "metadata": {},
   "source": [
    "Data scraping, or web scraping, is the process of automatically collecting information from websites or online sources. It's used for various purposes like research, competitor analysis, and more. The process involves accessing a website, extracting specific data from it, and storing that data for analysis. It should be done ethically and within legal boundaries, and you should be aware of the website's terms of service and any anti-scraping measures in place. There are programming libraries and tools available to make web scraping easier. Always consider legal and ethical implications when scraping data from the web."
   ]
  },
  {
   "cell_type": "code",
   "execution_count": 1,
   "id": "a0461757",
   "metadata": {},
   "outputs": [],
   "source": [
    "import pandas as pd\n",
    "import numpy as np\n",
    "import yfinance as yf"
   ]
  },
  {
   "cell_type": "markdown",
   "id": "d3a242ab",
   "metadata": {},
   "source": [
    "The code extracts the list of S&P 500 company symbols from a Wikipedia page, downloads historical stock data for these companies from Yahoo Finance spanning eight years up to '2023-9-27', and structures the data into a DataFrame. It then applies the `describe()` function to provide summary statistics for the numerical columns in the DataFrame, offering insights into the historical performance of these S&P 500 companies."
   ]
  },
  {
   "cell_type": "code",
   "execution_count": 3,
   "id": "a1396425",
   "metadata": {},
   "outputs": [
    {
     "name": "stderr",
     "output_type": "stream",
     "text": [
      "C:\\Users\\DELL\\AppData\\Local\\Temp\\ipykernel_7512\\1802560761.py:3: FutureWarning: The default value of regex will change from True to False in a future version. In addition, single character regular expressions will *not* be treated as literal strings when regex=True.\n",
      "  sp500['Symbol'] = sp500['Symbol'].str.replace('.', '-')\n"
     ]
    },
    {
     "name": "stdout",
     "output_type": "stream",
     "text": [
      "[*********************100%%**********************]  503 of 503 completed"
     ]
    },
    {
     "name": "stderr",
     "output_type": "stream",
     "text": [
      "\n",
      "1 Failed download:\n",
      "['VLTO']: Exception(\"%ticker%: Data doesn't exist for startDate = 1443499200, endDate = 1695787200\")\n"
     ]
    },
    {
     "name": "stdout",
     "output_type": "stream",
     "text": [
      "\n"
     ]
    },
    {
     "name": "stderr",
     "output_type": "stream",
     "text": [
      "C:\\Users\\DELL\\AppData\\Local\\Temp\\ipykernel_7512\\1802560761.py:15: UserWarning: Pandas doesn't allow columns to be created via a new attribute name - see https://pandas.pydata.org/pandas-docs/stable/indexing.html#attribute-access\n",
      "  dataframe.index_names = ['date', 'tickers']\n"
     ]
    },
    {
     "data": {
      "text/html": [
       "<div>\n",
       "<style scoped>\n",
       "    .dataframe tbody tr th:only-of-type {\n",
       "        vertical-align: middle;\n",
       "    }\n",
       "\n",
       "    .dataframe tbody tr th {\n",
       "        vertical-align: top;\n",
       "    }\n",
       "\n",
       "    .dataframe thead th {\n",
       "        text-align: right;\n",
       "    }\n",
       "</style>\n",
       "<table border=\"1\" class=\"dataframe\">\n",
       "  <thead>\n",
       "    <tr style=\"text-align: right;\">\n",
       "      <th></th>\n",
       "      <th></th>\n",
       "      <th>adj close</th>\n",
       "      <th>close</th>\n",
       "      <th>high</th>\n",
       "      <th>low</th>\n",
       "      <th>open</th>\n",
       "      <th>volume</th>\n",
       "    </tr>\n",
       "    <tr>\n",
       "      <th>Date</th>\n",
       "      <th></th>\n",
       "      <th></th>\n",
       "      <th></th>\n",
       "      <th></th>\n",
       "      <th></th>\n",
       "      <th></th>\n",
       "      <th></th>\n",
       "    </tr>\n",
       "  </thead>\n",
       "  <tbody>\n",
       "    <tr>\n",
       "      <th rowspan=\"5\" valign=\"top\">2015-09-29</th>\n",
       "      <th>A</th>\n",
       "      <td>31.588043</td>\n",
       "      <td>33.740002</td>\n",
       "      <td>34.060001</td>\n",
       "      <td>33.240002</td>\n",
       "      <td>33.360001</td>\n",
       "      <td>2252400.0</td>\n",
       "    </tr>\n",
       "    <tr>\n",
       "      <th>AAL</th>\n",
       "      <td>37.361622</td>\n",
       "      <td>39.180000</td>\n",
       "      <td>39.770000</td>\n",
       "      <td>38.790001</td>\n",
       "      <td>39.049999</td>\n",
       "      <td>7478800.0</td>\n",
       "    </tr>\n",
       "    <tr>\n",
       "      <th>AAPL</th>\n",
       "      <td>24.748632</td>\n",
       "      <td>27.264999</td>\n",
       "      <td>28.377501</td>\n",
       "      <td>26.965000</td>\n",
       "      <td>28.207500</td>\n",
       "      <td>293461600.0</td>\n",
       "    </tr>\n",
       "    <tr>\n",
       "      <th>ABBV</th>\n",
       "      <td>37.024639</td>\n",
       "      <td>52.790001</td>\n",
       "      <td>54.189999</td>\n",
       "      <td>51.880001</td>\n",
       "      <td>53.099998</td>\n",
       "      <td>12842800.0</td>\n",
       "    </tr>\n",
       "    <tr>\n",
       "      <th>ABT</th>\n",
       "      <td>33.807274</td>\n",
       "      <td>39.500000</td>\n",
       "      <td>40.150002</td>\n",
       "      <td>39.029999</td>\n",
       "      <td>39.259998</td>\n",
       "      <td>12287500.0</td>\n",
       "    </tr>\n",
       "    <tr>\n",
       "      <th>...</th>\n",
       "      <th>...</th>\n",
       "      <td>...</td>\n",
       "      <td>...</td>\n",
       "      <td>...</td>\n",
       "      <td>...</td>\n",
       "      <td>...</td>\n",
       "      <td>...</td>\n",
       "    </tr>\n",
       "    <tr>\n",
       "      <th rowspan=\"5\" valign=\"top\">2023-09-26</th>\n",
       "      <th>YUM</th>\n",
       "      <td>124.010002</td>\n",
       "      <td>124.010002</td>\n",
       "      <td>124.739998</td>\n",
       "      <td>123.449997</td>\n",
       "      <td>124.239998</td>\n",
       "      <td>1500600.0</td>\n",
       "    </tr>\n",
       "    <tr>\n",
       "      <th>ZBH</th>\n",
       "      <td>112.216316</td>\n",
       "      <td>112.459999</td>\n",
       "      <td>117.110001</td>\n",
       "      <td>112.419998</td>\n",
       "      <td>116.769997</td>\n",
       "      <td>3610500.0</td>\n",
       "    </tr>\n",
       "    <tr>\n",
       "      <th>ZBRA</th>\n",
       "      <td>223.960007</td>\n",
       "      <td>223.960007</td>\n",
       "      <td>226.649994</td>\n",
       "      <td>222.580002</td>\n",
       "      <td>225.970001</td>\n",
       "      <td>355400.0</td>\n",
       "    </tr>\n",
       "    <tr>\n",
       "      <th>ZION</th>\n",
       "      <td>33.990002</td>\n",
       "      <td>33.990002</td>\n",
       "      <td>34.700001</td>\n",
       "      <td>33.840000</td>\n",
       "      <td>33.840000</td>\n",
       "      <td>1586100.0</td>\n",
       "    </tr>\n",
       "    <tr>\n",
       "      <th>ZTS</th>\n",
       "      <td>176.869995</td>\n",
       "      <td>176.869995</td>\n",
       "      <td>178.449997</td>\n",
       "      <td>176.270004</td>\n",
       "      <td>176.580002</td>\n",
       "      <td>1463200.0</td>\n",
       "    </tr>\n",
       "  </tbody>\n",
       "</table>\n",
       "<p>994088 rows × 6 columns</p>\n",
       "</div>"
      ],
      "text/plain": [
       "                  adj close       close        high         low        open  \\\n",
       "Date                                                                          \n",
       "2015-09-29 A      31.588043   33.740002   34.060001   33.240002   33.360001   \n",
       "           AAL    37.361622   39.180000   39.770000   38.790001   39.049999   \n",
       "           AAPL   24.748632   27.264999   28.377501   26.965000   28.207500   \n",
       "           ABBV   37.024639   52.790001   54.189999   51.880001   53.099998   \n",
       "           ABT    33.807274   39.500000   40.150002   39.029999   39.259998   \n",
       "...                     ...         ...         ...         ...         ...   \n",
       "2023-09-26 YUM   124.010002  124.010002  124.739998  123.449997  124.239998   \n",
       "           ZBH   112.216316  112.459999  117.110001  112.419998  116.769997   \n",
       "           ZBRA  223.960007  223.960007  226.649994  222.580002  225.970001   \n",
       "           ZION   33.990002   33.990002   34.700001   33.840000   33.840000   \n",
       "           ZTS   176.869995  176.869995  178.449997  176.270004  176.580002   \n",
       "\n",
       "                      volume  \n",
       "Date                          \n",
       "2015-09-29 A       2252400.0  \n",
       "           AAL     7478800.0  \n",
       "           AAPL  293461600.0  \n",
       "           ABBV   12842800.0  \n",
       "           ABT    12287500.0  \n",
       "...                      ...  \n",
       "2023-09-26 YUM     1500600.0  \n",
       "           ZBH     3610500.0  \n",
       "           ZBRA     355400.0  \n",
       "           ZION    1586100.0  \n",
       "           ZTS     1463200.0  \n",
       "\n",
       "[994088 rows x 6 columns]"
      ]
     },
     "execution_count": 3,
     "metadata": {},
     "output_type": "execute_result"
    }
   ],
   "source": [
    "sp500 = pd.read_html('https://en.wikipedia.org/wiki/List_of_S%26P_500_companies')[0]\n",
    "\n",
    "sp500['Symbol'] = sp500['Symbol'].str.replace('.', '-')\n",
    "\n",
    "symbol_list = sp500['Symbol'].unique().tolist()\n",
    "\n",
    "end_date = '2023-9-27'\n",
    "\n",
    "start_date = pd.to_datetime(end_date) - pd.DateOffset(365 * 8)\n",
    "\n",
    "dataframe = yf.download(tickers = symbol_list, \n",
    "                        start = start_date, \n",
    "                        end = end_date).stack()\n",
    "\n",
    "dataframe.index_names = ['date', 'tickers']\n",
    "\n",
    "dataframe.columns = dataframe.columns.str.lower()\n",
    "\n",
    "dataframe "
   ]
  },
  {
   "cell_type": "code",
   "execution_count": 4,
   "id": "f3a3bcfa",
   "metadata": {},
   "outputs": [],
   "source": [
    "dataframe.to_csv('sp500.csv')"
   ]
  },
  {
   "cell_type": "code",
   "execution_count": null,
   "id": "1181ce06",
   "metadata": {},
   "outputs": [],
   "source": []
  }
 ],
 "metadata": {
  "kernelspec": {
   "display_name": "Python 3 (ipykernel)",
   "language": "python",
   "name": "python3"
  },
  "language_info": {
   "codemirror_mode": {
    "name": "ipython",
    "version": 3
   },
   "file_extension": ".py",
   "mimetype": "text/x-python",
   "name": "python",
   "nbconvert_exporter": "python",
   "pygments_lexer": "ipython3",
   "version": "3.10.9"
  }
 },
 "nbformat": 4,
 "nbformat_minor": 5
}
